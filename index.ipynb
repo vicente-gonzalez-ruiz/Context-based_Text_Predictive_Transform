{
 "cells": [
  {
   "cell_type": "markdown",
   "metadata": {
    "slideshow": {
     "slide_type": "slide"
    }
   },
   "source": [
    "# Context-based Text Predictive transform\n",
    "\n",
    "* The MTF uses a model where the next encoded symbol (that can be happened only one\n",
    "  time) can get an index-code that is lower than the index-code of a\n",
    "  symbol that previously has been found thousands of times :-(\n",
    "\n",
    "* We can solve this problem if the positions of the symbols are\n",
    "  determined by their probability. In other words, the list $L$ will\n",
    "  be sorted by the ocurrence of the symbols."
   ]
  },
  {
   "cell_type": "markdown",
   "metadata": {
    "slideshow": {
     "slide_type": "subslide"
    }
   },
   "source": [
    "## 0-order encoder\n",
    "\n",
    "1. The step 1 of the MTF transform, although now there is a counter for every node in the list.\n",
    "2. While the input is not exhausted:\n",
    "    1. $s\\leftarrow$ next input symbol.\n",
    "    2. $c\\leftarrow$ position of $s$ in $L$ (the prediction error).\n",
    "    3. Output $\\leftarrow c$.\n",
    "    4. Update the count of $L[c]$ (the count of $s$) and keep sorted $L$."
   ]
  },
  {
   "cell_type": "markdown",
   "metadata": {
    "slideshow": {
     "slide_type": "subslide"
    }
   },
   "source": [
    "## Example\n",
    "\n",
    "<img src=\"data/TPT_example.png\" width=\"450\">"
   ]
  },
  {
   "cell_type": "markdown",
   "metadata": {
    "slideshow": {
     "slide_type": "subslide"
    }
   },
   "source": [
    "## 0-order decoder\n",
    "\n",
    "1. The step 1 of the encoder.\n",
    "2. While the input is not exhausted:\n",
    "    1. $c\\leftarrow$ next input code.\n",
    "    2. $s\\leftarrow L[c]$.\n",
    "    3. Output $s$.\n",
    "    4. Step 2.D of the encoder."
   ]
  },
  {
   "cell_type": "markdown",
   "metadata": {
    "slideshow": {
     "slide_type": "subslide"
    }
   },
   "source": [
    "## Example\n",
    "TO-DO"
   ]
  },
  {
   "cell_type": "markdown",
   "metadata": {
    "slideshow": {
     "slide_type": "subslide"
    }
   },
   "source": [
    "## $N$-order encoder\n",
    "\n",
    "1. Let ${\\cal C}[i]$ the context of a input symbol $s$ and $L_{{\\cal C}[i]}$ the\n",
    "   list previous simbols for that context. If $i>0$ then the lists are empty, else, the\n",
    "   list is fully populated and the count of every node is $0$.\n",
    "2. Let $k$ the order of the prediction.\n",
    "3. Let $H=\\varnothing$ a list of tested symbols. All symbols in $H$\n",
    "   must be different.\n",
    "4. While the input is not exhausted:\n",
    "    1. $s\\leftarrow$ the next input symbol.\n",
    "    2. $i\\leftarrow k$ (except for the first symbol, where $i\\leftarrow 0$).\n",
    "    3. While $s\\notin L_{{\\cal C}[i]}$:\n",
    "        1. $H\\leftarrow \\text{reduce}(H\\cup L_{{\\cal C}[i]})$. # reduce$()$ deletes the repeated nodes.\n",
    "        2. Update the count of $s$ in $L_{{\\cal C}[i]}$ and keep sorted it.\n",
    "        3. $i\\leftarrow i-1$.\n",
    "    4. Let $c$ the position of $s$ en $L_{{\\cal C}[i]}$.\n",
    "    5. $c\\leftarrow c~+$ symbols of $H\\setminus L_{{\\cal C}[i]}$. So, the decoder will know the length of the context where $s$\n",
    "       happens and does not count the same symbol twice.\n",
    "    6. Output $\\leftarrow c$.\n",
    "    7. Update the count of $s$ in $L_{{\\cal C}[i]}$ and keep sorted it.\n",
    "    8. $H\\leftarrow\\varnothing$."
   ]
  },
  {
   "cell_type": "markdown",
   "metadata": {
    "slideshow": {
     "slide_type": "subslide"
    }
   },
   "source": [
    "## Example ($k=1$)\n",
    "\n",
    "<img src=\"data/CBTPT_example.png\" width=\"500\">"
   ]
  },
  {
   "cell_type": "markdown",
   "metadata": {
    "slideshow": {
     "slide_type": "subslide"
    }
   },
   "source": [
    "## $N$-order decoder\n",
    "\n",
    "1. Steps 1, 2 and 3 of the encoder.\n",
    "2. While the input is not exhausted:\n",
    "    1. $c\\leftarrow$ the next input code.\n",
    "    2. $i\\leftarrow k$ (except for the first symbol, where $i\\leftarrow 0$).\n",
    "    3. While $L_{{\\cal C}[i]}=\\varnothing$:\n",
    "        1. $H\\leftarrow \\text{reduce}(H\\cup L_{{\\cal C}[i]})$.\n",
    "        2. $i\\leftarrow i-1$.\n",
    "    4. $s\\leftarrow \\text{reduce}(H\\cup L_{{\\cal C}[i]})$.\n",
    "    5. Update the count of $L_{{\\cal C}[i]}$.\n",
    "    6. While $i<k$:\n",
    "        1. $i\\leftarrow i+1$.\n",
    "        2. Insert the symbol $s$ in $L_{{\\cal C}[i]}$."
   ]
  },
  {
   "cell_type": "markdown",
   "metadata": {
    "slideshow": {
     "slide_type": "subslide"
    }
   },
   "source": [
    "## Example\n",
    "TO-DO"
   ]
  }
 ],
 "metadata": {
  "celltoolbar": "Slideshow",
  "kernelspec": {
   "display_name": "Python 3",
   "language": "python",
   "name": "python3"
  },
  "language_info": {
   "codemirror_mode": {
    "name": "ipython",
    "version": 3
   },
   "file_extension": ".py",
   "mimetype": "text/x-python",
   "name": "python",
   "nbconvert_exporter": "python",
   "pygments_lexer": "ipython3",
   "version": "3.6.4"
  }
 },
 "nbformat": 4,
 "nbformat_minor": 1
}
